{
 "cells": [
  {
   "cell_type": "code",
   "execution_count": null,
   "id": "a3afff5c",
   "metadata": {},
   "outputs": [],
   "source": [
    "%load_ext autoreload\n",
    "%autoreload 2"
   ]
  },
  {
   "cell_type": "code",
   "execution_count": null,
   "id": "dea2efe1",
   "metadata": {},
   "outputs": [],
   "source": [
    "import glob\n",
    "import time\n",
    "from contextlib import contextmanager\n",
    "\n",
    "import minimalloc as mm"
   ]
  },
  {
   "cell_type": "code",
   "execution_count": null,
   "id": "42fd5bd0",
   "metadata": {},
   "outputs": [],
   "source": [
    "@contextmanager\n",
    "def timer(tag: str = \"\"):\n",
    "    \"\"\"Time a code block.\"\"\"\n",
    "    start = time.perf_counter()\n",
    "    yield\n",
    "    label = f\"{tag} took\" if tag else \"Took\"\n",
    "    print(f\"{label} {time.perf_counter() - start:.6f}s\")"
   ]
  },
  {
   "cell_type": "code",
   "execution_count": null,
   "id": "52e92d5a",
   "metadata": {},
   "outputs": [],
   "source": [
    "# Run the small example\n",
    "problem = mm.from_csv_file(\"../../benchmarks/examples/input.12.csv\")\n",
    "problem.capacity = 12\n",
    "with timer(\"Example\"):\n",
    "    solver = mm.Solver()\n",
    "    solution = solver.solve(problem)\n",
    "print(solution)"
   ]
  },
  {
   "cell_type": "code",
   "execution_count": null,
   "id": "2c385954",
   "metadata": {},
   "outputs": [],
   "source": [
    "# Run the benchmark files\n",
    "files = glob.glob(\"../../benchmarks/challenging/*.csv\")\n",
    "for file in files:\n",
    "    problem = mm.from_csv_file(file)\n",
    "    problem.capacity = 1048576\n",
    "\n",
    "    with timer(file):\n",
    "        solver = mm.Solver()\n",
    "        solution = solver.solve(problem)"
   ]
  }
 ],
 "metadata": {
  "kernelspec": {
   "display_name": "venv",
   "language": "python",
   "name": "python3"
  },
  "language_info": {
   "codemirror_mode": {
    "name": "ipython",
    "version": 3
   },
   "file_extension": ".py",
   "mimetype": "text/x-python",
   "name": "python",
   "nbconvert_exporter": "python",
   "pygments_lexer": "ipython3",
   "version": "3.10.12"
  }
 },
 "nbformat": 4,
 "nbformat_minor": 5
}
